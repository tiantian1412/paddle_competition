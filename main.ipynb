{
 "cells": [
  {
   "cell_type": "markdown",
   "metadata": {},
   "source": [
    "请点击[此处](https://ai.baidu.com/docs#/AIStudio_Project_Notebook/a38e5576)查看本环境基本用法.  <br>\n",
    "Please click [here ](https://ai.baidu.com/docs#/AIStudio_Project_Notebook/a38e5576) for more detailed instructions. "
   ]
  },
  {
   "cell_type": "markdown",
   "metadata": {
    "execution": {
     "iopub.execute_input": "2022-08-04T15:18:04.163703Z",
     "iopub.status.busy": "2022-08-04T15:18:04.163161Z",
     "iopub.status.idle": "2022-08-04T15:18:04.169827Z",
     "shell.execute_reply": "2022-08-04T15:18:04.168669Z",
     "shell.execute_reply.started": "2022-08-04T15:18:04.163670Z"
    }
   },
   "source": [
    "# 赛题介绍\n",
    "\n",
    "图神经网络（Graph Neural Network）是一种专门处理图结构数据的神经网络，目前被广泛应用于推荐系统、金融风控、生物计算中。图神经网络的经典问题主要有三种，包括节点分类、连接预测和图分类三种。本次比赛是图神经网络7日打卡课程的大作业，主要让同学们熟悉如何图神经网络处理节点分类问题。\n",
    "\n",
    "数据集为论文引用网络，图由大量的学术论文组成，节点之间的边是论文的引用关系，每一个节点提供简单的词向量组合的节点特征。我们的目的是给每篇论文推断出它的论文类别。"
   ]
  },
  {
   "cell_type": "markdown",
   "metadata": {},
   "source": [
    "# 运行方式\n",
    "依次运行下方的cell，完成后下载submission.csv提交结果即可;"
   ]
  },
  {
   "cell_type": "markdown",
   "metadata": {
    "execution": {
     "iopub.execute_input": "2022-08-04T15:54:27.028437Z",
     "iopub.status.busy": "2022-08-04T15:54:27.027507Z",
     "iopub.status.idle": "2022-08-04T15:54:27.033577Z",
     "shell.execute_reply": "2022-08-04T15:54:27.032546Z",
     "shell.execute_reply.started": "2022-08-04T15:54:27.028405Z"
    }
   },
   "source": [
    "# 代码整体逻辑\n",
    "1. 最重要的是使用的新版本的paddle 和pgl; pgl使用参考github 的代码示例\n",
    "paddle 版本 2.3.1\n",
    "pgl 版本 2.2.3post0\n",
    "2. 代码逻辑大同小异，一个主函数main，在主流程里:\n",
    "- 2.1 调用load函数读取数据集，构建图，划分训练集、验证集、测试集\n",
    "- 2.2 下面是模型训练的过程：定义模型及超参数，定义优化器、损失函数，执行300个epoch，每20轮输出训练集、验证集的loss和auc\n",
    "- 2.3 对测试集的id进行预测并输出结果\n",
    "3. 可以修改定义的模型及超参数"
   ]
  },
  {
   "cell_type": "markdown",
   "metadata": {},
   "source": [
    "# 思路介绍及后续完善\n",
    "\n",
    "1. 用最简单的gcn，代码框架参考baseline 及github中pgl的代码示例；\n",
    "2. 考虑到我们的节点分类有35个，调整了隐藏层单元128，两层隐藏\n",
    "3. 后续可以考虑调整gcn的隐藏单元等超参数；使用gat,unimp等模型"
   ]
  },
  {
   "cell_type": "markdown",
   "metadata": {},
   "source": [
    "# 环境配置"
   ]
  },
  {
   "cell_type": "code",
   "execution_count": 3,
   "metadata": {
    "execution": {
     "iopub.execute_input": "2022-08-04T15:43:20.417824Z",
     "iopub.status.busy": "2022-08-04T15:43:20.417138Z",
     "iopub.status.idle": "2022-08-04T15:43:21.938669Z",
     "shell.execute_reply": "2022-08-04T15:43:21.937635Z",
     "shell.execute_reply.started": "2022-08-04T15:43:20.417789Z"
    },
    "scrolled": true
   },
   "outputs": [],
   "source": [
    "import paddle"
   ]
  },
  {
   "cell_type": "code",
   "execution_count": 4,
   "metadata": {
    "execution": {
     "iopub.execute_input": "2022-08-04T15:43:31.624651Z",
     "iopub.status.busy": "2022-08-04T15:43:31.623579Z",
     "iopub.status.idle": "2022-08-04T15:43:31.635278Z",
     "shell.execute_reply": "2022-08-04T15:43:31.634381Z",
     "shell.execute_reply.started": "2022-08-04T15:43:31.624584Z"
    },
    "scrolled": true
   },
   "outputs": [
    {
     "data": {
      "text/plain": [
       "'2.3.1'"
      ]
     },
     "execution_count": 4,
     "metadata": {},
     "output_type": "execute_result"
    }
   ],
   "source": [
    "paddle.__version__"
   ]
  },
  {
   "cell_type": "code",
   "execution_count": 5,
   "metadata": {
    "execution": {
     "iopub.execute_input": "2022-08-04T15:44:51.861740Z",
     "iopub.status.busy": "2022-08-04T15:44:51.861038Z",
     "iopub.status.idle": "2022-08-04T15:44:54.697171Z",
     "shell.execute_reply": "2022-08-04T15:44:54.695912Z",
     "shell.execute_reply.started": "2022-08-04T15:44:51.861707Z"
    },
    "scrolled": true
   },
   "outputs": [
    {
     "name": "stdout",
     "output_type": "stream",
     "text": [
      "Looking in indexes: https://pypi.tuna.tsinghua.edu.cn/simple\n",
      "Collecting pgl==2.2.3post0\n",
      "  Downloading https://pypi.tuna.tsinghua.edu.cn/packages/6d/2d/8f3dd46371f4c02d71c2d41f2fe64a063a53bf232466df011fef399c16c8/pgl-2.2.3.post0-cp37-cp37m-manylinux_2_17_x86_64.manylinux2014_x86_64.whl (9.2 MB)\n",
      "\u001b[2K     \u001b[90m━━━━━━━━━━━━━━━━━━━━━━━━━━━━━━━━━━━━━━━━\u001b[0m \u001b[32m9.2/9.2 MB\u001b[0m \u001b[31m40.8 MB/s\u001b[0m eta \u001b[36m0:00:00\u001b[0m00:01\u001b[0m00:01\u001b[0m\n",
      "\u001b[?25hRequirement already satisfied: cython>=0.25.2 in /opt/conda/envs/python35-paddle120-env/lib/python3.7/site-packages (from pgl==2.2.3post0) (0.29)\n",
      "Requirement already satisfied: numpy<1.20.0,>=1.16.4 in /opt/conda/envs/python35-paddle120-env/lib/python3.7/site-packages (from pgl==2.2.3post0) (1.19.5)\n",
      "Installing collected packages: pgl\n",
      "Successfully installed pgl-2.2.3.post0\n",
      "\n",
      "\u001b[1m[\u001b[0m\u001b[34;49mnotice\u001b[0m\u001b[1;39;49m]\u001b[0m\u001b[39;49m A new release of pip available: \u001b[0m\u001b[31;49m22.1.2\u001b[0m\u001b[39;49m -> \u001b[0m\u001b[32;49m22.2.2\u001b[0m\n",
      "\u001b[1m[\u001b[0m\u001b[34;49mnotice\u001b[0m\u001b[1;39;49m]\u001b[0m\u001b[39;49m To update, run: \u001b[0m\u001b[32;49mpip install --upgrade pip\u001b[0m\n"
     ]
    }
   ],
   "source": [
    "!pip install pgl==2.2.3post0"
   ]
  },
  {
   "cell_type": "code",
   "execution_count": 8,
   "metadata": {
    "execution": {
     "iopub.execute_input": "2022-08-04T15:55:35.163765Z",
     "iopub.status.busy": "2022-08-04T15:55:35.162607Z",
     "iopub.status.idle": "2022-08-04T15:55:35.168210Z",
     "shell.execute_reply": "2022-08-04T15:55:35.167456Z",
     "shell.execute_reply.started": "2022-08-04T15:55:35.163732Z"
    },
    "scrolled": true,
    "tags": []
   },
   "outputs": [],
   "source": [
    "import paddle\n",
    "import paddle.nn as nn\n",
    "from pgl.utils.logger import log\n",
    "from paddle.optimizer import Adam\n",
    "import pgl\n",
    "import paddle.fluid as fluid\n",
    "import numpy as np\n",
    "import time\n",
    "import pandas as pd\n",
    "from collections import namedtuple,Counter\n",
    "import tqdm"
   ]
  },
  {
   "cell_type": "markdown",
   "metadata": {},
   "source": [
    "# 具体代码分享"
   ]
  },
  {
   "cell_type": "code",
   "execution_count": 9,
   "metadata": {
    "execution": {
     "iopub.execute_input": "2022-08-04T15:55:44.959795Z",
     "iopub.status.busy": "2022-08-04T15:55:44.959130Z",
     "iopub.status.idle": "2022-08-04T15:55:44.964533Z",
     "shell.execute_reply": "2022-08-04T15:55:44.963626Z",
     "shell.execute_reply.started": "2022-08-04T15:55:44.959763Z"
    },
    "scrolled": true
   },
   "outputs": [],
   "source": [
    "Dataset = namedtuple(\"Dataset\", \n",
    "               [\"graph\", \"num_classes\", \"train_index\",\n",
    "                \"train_label\", \"valid_index\", \"valid_label\", \"test_index\", \"test_label\"])"
   ]
  },
  {
   "cell_type": "code",
   "execution_count": 22,
   "metadata": {
    "execution": {
     "iopub.execute_input": "2022-08-04T16:15:49.467081Z",
     "iopub.status.busy": "2022-08-04T16:15:49.466594Z",
     "iopub.status.idle": "2022-08-04T16:15:49.479013Z",
     "shell.execute_reply": "2022-08-04T16:15:49.478143Z",
     "shell.execute_reply.started": "2022-08-04T16:15:49.467048Z"
    },
    "scrolled": true,
    "tags": []
   },
   "outputs": [],
   "source": [
    "def load_edges(num_nodes, self_loop=True, add_inverse_edge=True):\n",
    "    # 从数据中读取边\n",
    "    edges = pd.read_csv(\"/home/aistudio/data/data61620/edges.csv\", header=None, names=[\"src\", \"dst\"]).values\n",
    "\n",
    "    if add_inverse_edge:\n",
    "        edges = np.vstack([edges, edges[:, ::-1]])\n",
    "\n",
    "    if self_loop:\n",
    "        src = np.arange(0, num_nodes)\n",
    "        dst = np.arange(0, num_nodes)\n",
    "        self_loop = np.vstack([src, dst]).T\n",
    "        edges = np.vstack([edges, self_loop])\n",
    "    \n",
    "    return edges\n",
    "\n",
    "def load():\n",
    "    # 从数据中读取点特征和边，以及数据划分\n",
    "    node_feat = np.load(\"/home/aistudio/data/data61620//feat.npy\")\n",
    "    num_nodes = node_feat.shape[0]\n",
    "    edges = load_edges(num_nodes=num_nodes, self_loop=True, add_inverse_edge=True)\n",
    "    graph = pgl.graph.Graph(num_nodes=num_nodes, edges=edges, node_feat={\"feat\": node_feat})\n",
    "    \n",
    "    indegree = graph.indegree()\n",
    "    norm = np.maximum(indegree.astype(\"float32\"), 1)\n",
    "    norm = np.power(norm, -0.5)\n",
    "    graph.node_feat[\"norm\"] = np.expand_dims(norm, -1)\n",
    "    \n",
    "    # 训练集、验证集划分\n",
    "    df = pd.read_csv(\"/home/aistudio/data/data61620/train.csv\")\n",
    "    node_index = df[\"nid\"].values\n",
    "    node_label = df[\"label\"].values\n",
    "    train_part = int(len(node_index) * 0.8)\n",
    "    train_index = node_index[:train_part]\n",
    "    train_label = node_label[:train_part]\n",
    "    valid_index = node_index[train_part:]\n",
    "    valid_label = node_label[train_part:]\n",
    "    # 读取测试集\n",
    "    test_index = pd.read_csv(\"/home/aistudio/data/data61620/test.csv\")[\"nid\"].values\n",
    "    test_label = np.zeros((len(test_index), 1), dtype=\"int64\")\n",
    "    \n",
    "    # 要转成tensor类型，并注意维度\n",
    "    train_index = paddle.to_tensor(np.expand_dims(train_index, -1))\n",
    "    valid_index = paddle.to_tensor(np.expand_dims(valid_index, -1))\n",
    "    test_index = paddle.to_tensor(np.expand_dims(test_index, -1))\n",
    "    \n",
    "    train_label = paddle.to_tensor(np.expand_dims(train_label, -1))\n",
    "    valid_label = paddle.to_tensor(np.expand_dims(valid_label, -1))\n",
    "    test_label = paddle.to_tensor(test_label)\n",
    "    \n",
    "    dataset = Dataset(graph=graph, \n",
    "                    train_label=train_label,\n",
    "                    train_index=train_index,\n",
    "                    valid_index=valid_index,\n",
    "                    valid_label=valid_label,\n",
    "                    test_index=test_index,\n",
    "                    test_label=test_label,\n",
    "                      num_classes=35)\n",
    "    return dataset"
   ]
  },
  {
   "cell_type": "code",
   "execution_count": 23,
   "metadata": {
    "execution": {
     "iopub.execute_input": "2022-08-04T16:15:53.808573Z",
     "iopub.status.busy": "2022-08-04T16:15:53.807771Z",
     "iopub.status.idle": "2022-08-04T16:15:54.213437Z",
     "shell.execute_reply": "2022-08-04T16:15:54.212397Z",
     "shell.execute_reply.started": "2022-08-04T16:15:53.808542Z"
    },
    "scrolled": true,
    "tags": []
   },
   "outputs": [
    {
     "name": "stdout",
     "output_type": "stream",
     "text": [
      "(130644, 100)\n"
     ]
    }
   ],
   "source": [
    "# 检查一下load结果\n",
    "dataset = load()\n",
    "print(dataset.graph.node_feat[\"feat\"].shape)"
   ]
  },
  {
   "cell_type": "code",
   "execution_count": 24,
   "metadata": {
    "execution": {
     "iopub.execute_input": "2022-08-04T16:15:56.580119Z",
     "iopub.status.busy": "2022-08-04T16:15:56.579585Z",
     "iopub.status.idle": "2022-08-04T16:15:56.586311Z",
     "shell.execute_reply": "2022-08-04T16:15:56.585530Z",
     "shell.execute_reply.started": "2022-08-04T16:15:56.580088Z"
    },
    "scrolled": true,
    "tags": []
   },
   "outputs": [
    {
     "data": {
      "text/plain": [
       "Tensor(shape=[37311, 1], dtype=int64, place=Place(cpu), stop_gradient=True,\n",
       "       [[118264],\n",
       "        [411   ],\n",
       "        [118364],\n",
       "        ...,\n",
       "        [117847],\n",
       "        [117848],\n",
       "        [117934]])"
      ]
     },
     "execution_count": 24,
     "metadata": {},
     "output_type": "execute_result"
    }
   ],
   "source": [
    "dataset.test_index"
   ]
  },
  {
   "cell_type": "code",
   "execution_count": 25,
   "metadata": {
    "execution": {
     "iopub.execute_input": "2022-08-04T16:16:00.558795Z",
     "iopub.status.busy": "2022-08-04T16:16:00.558157Z",
     "iopub.status.idle": "2022-08-04T16:16:00.567800Z",
     "shell.execute_reply": "2022-08-04T16:16:00.566998Z",
     "shell.execute_reply.started": "2022-08-04T16:16:00.558765Z"
    },
    "scrolled": true,
    "tags": []
   },
   "outputs": [],
   "source": [
    "class GCN(nn.Layer):\n",
    "    \"\"\"Implement of GCN\n",
    "    \"\"\"\n",
    "\n",
    "    def __init__(self,\n",
    "                 input_size,\n",
    "                 num_class,\n",
    "                 num_layers=1,\n",
    "                 hidden_size=64,\n",
    "                 dropout=0.5):\n",
    "        super(GCN, self).__init__()\n",
    "        self.num_class = num_class\n",
    "        self.num_layers = num_layers\n",
    "        self.hidden_size = hidden_size\n",
    "        self.dropout = dropout\n",
    "        self.gcns = nn.LayerList()\n",
    "        for i in range(self.num_layers):\n",
    "            if i == 0:\n",
    "                self.gcns.append(\n",
    "                    pgl.nn.GCNConv(\n",
    "                        input_size,\n",
    "                        self.hidden_size,\n",
    "                        activation=\"relu\",\n",
    "                        norm=True))\n",
    "            else:\n",
    "                self.gcns.append(\n",
    "                    pgl.nn.GCNConv(\n",
    "                        self.hidden_size,\n",
    "                        self.hidden_size,\n",
    "                        activation=\"relu\",\n",
    "                        norm=True))\n",
    "            self.gcns.append(nn.Dropout(self.dropout))\n",
    "        self.gcns.append(pgl.nn.GCNConv(self.hidden_size, self.num_class))\n",
    "\n",
    "    def forward(self, graph, feature):\n",
    "        for m in self.gcns:\n",
    "            if isinstance(m, nn.Dropout):\n",
    "                feature = m(feature)\n",
    "            else:\n",
    "                feature = m(graph, feature)\n",
    "        return feature"
   ]
  },
  {
   "cell_type": "code",
   "execution_count": 19,
   "metadata": {
    "execution": {
     "iopub.execute_input": "2022-08-04T15:59:24.920285Z",
     "iopub.status.busy": "2022-08-04T15:59:24.918997Z",
     "iopub.status.idle": "2022-08-04T15:59:24.930064Z",
     "shell.execute_reply": "2022-08-04T15:59:24.929111Z",
     "shell.execute_reply.started": "2022-08-04T15:59:24.920248Z"
    },
    "scrolled": true
   },
   "outputs": [],
   "source": [
    "class GAT(nn.Layer):\n",
    "    \"\"\"Implement of GAT\n",
    "    \"\"\"\n",
    "\n",
    "    def __init__(\n",
    "            self,\n",
    "            input_size,\n",
    "            num_class,\n",
    "            num_layers=1,\n",
    "            feat_drop=0.6,\n",
    "            attn_drop=0.6,\n",
    "            num_heads=8,\n",
    "            hidden_size=8, ):\n",
    "        super(GAT, self).__init__()\n",
    "        self.num_class = num_class\n",
    "        self.num_layers = num_layers\n",
    "        self.feat_drop = feat_drop\n",
    "        self.attn_drop = attn_drop\n",
    "        self.num_heads = num_heads\n",
    "        self.hidden_size = hidden_size\n",
    "        self.gats = nn.LayerList()\n",
    "        for i in range(self.num_layers):\n",
    "            if i == 0:\n",
    "                self.gats.append(\n",
    "                    pgl.nn.GATConv(\n",
    "                        input_size,\n",
    "                        self.hidden_size,\n",
    "                        self.feat_drop,\n",
    "                        self.attn_drop,\n",
    "                        self.num_heads,\n",
    "                        activation='elu'))\n",
    "            elif i == (self.num_layers - 1):\n",
    "                self.gats.append(\n",
    "                    pgl.nn.GATConv(\n",
    "                        self.num_heads * self.hidden_size,\n",
    "                        self.num_class,\n",
    "                        self.feat_drop,\n",
    "                        self.attn_drop,\n",
    "                        1,\n",
    "                        concat=False,\n",
    "                        activation=None))\n",
    "            else:\n",
    "                self.gats.append(\n",
    "                    pgl.nn.GATConv(\n",
    "                        self.num_heads * self.hidden_size,\n",
    "                        self.hidden_size,\n",
    "                        self.feat_drop,\n",
    "                        self.attn_drop,\n",
    "                        self.num_heads,\n",
    "                        activation='elu'))\n",
    "    def forward(self, graph, feature):\n",
    "        for m in self.gats:\n",
    "            feature = m(graph, feature)\n",
    "        return feature"
   ]
  },
  {
   "cell_type": "code",
   "execution_count": 26,
   "metadata": {
    "execution": {
     "iopub.execute_input": "2022-08-04T16:17:15.517127Z",
     "iopub.status.busy": "2022-08-04T16:17:15.516427Z",
     "iopub.status.idle": "2022-08-04T16:17:15.525415Z",
     "shell.execute_reply": "2022-08-04T16:17:15.524535Z",
     "shell.execute_reply.started": "2022-08-04T16:17:15.517088Z"
    },
    "scrolled": true,
    "tags": []
   },
   "outputs": [],
   "source": [
    "# 模型训练 前向-loss-反向传播\n",
    "def train(model, index, label, graph, criterion, optim):\n",
    "    model.train()\n",
    "    pred = model(graph, graph.node_feat[\"feat\"])\n",
    "    pred = paddle.gather(pred, index)\n",
    "    loss = criterion(pred, label)\n",
    "    loss.backward()\n",
    "    acc = paddle.metric.accuracy(input=pred, label=label, k=1)\n",
    "    optim.step()\n",
    "    optim.clear_grad()\n",
    "    return loss, acc\n",
    "\n",
    "# 用于评估，只有前向计算和loss/auc\n",
    "@paddle.no_grad()\n",
    "def eval_test(model, index, label, graph, criterion):\n",
    "    model.eval()\n",
    "    pred = model(graph, graph.node_feat[\"feat\"])\n",
    "    pred = paddle.gather(pred, index)\n",
    "    loss = criterion(pred, label)\n",
    "    acc = paddle.metric.accuracy(input=pred, label=label, k=1)\n",
    "    return loss, acc\n",
    "\n",
    "\n",
    "def set_seed(seed):\n",
    "    paddle.seed(seed)\n",
    "    np.random.seed(seed)"
   ]
  },
  {
   "cell_type": "code",
   "execution_count": 30,
   "metadata": {
    "execution": {
     "iopub.execute_input": "2022-08-04T16:28:42.698575Z",
     "iopub.status.busy": "2022-08-04T16:28:42.697697Z",
     "iopub.status.idle": "2022-08-04T16:28:42.713691Z",
     "shell.execute_reply": "2022-08-04T16:28:42.712739Z",
     "shell.execute_reply.started": "2022-08-04T16:28:42.698541Z"
    },
    "scrolled": true,
    "tags": []
   },
   "outputs": [],
   "source": [
    "def main():\n",
    "    \n",
    "    dataset = load()\n",
    "    dataset.graph.tensor()\n",
    "    graph = dataset.graph\n",
    "    \n",
    "    \n",
    "    train_index = dataset.train_index\n",
    "    train_label = dataset.train_label\n",
    "\n",
    "    val_index = dataset.valid_index\n",
    "    val_label = dataset.valid_label\n",
    "\n",
    "    test_index = dataset.test_index\n",
    "    test_label = dataset.test_label\n",
    "    \n",
    "\n",
    "    #return  dataset, graph\n",
    "    criterion = paddle.nn.loss.CrossEntropyLoss()\n",
    "\n",
    "    dur = []\n",
    "\n",
    "    for run in range(1):\n",
    "        cal_val_acc = []\n",
    "        cal_test_acc = []\n",
    "        cal_val_loss = []\n",
    "        cal_test_loss = []\n",
    "        gnn_model = GCN(input_size=graph.node_feat[\"feat\"].shape[1],\n",
    "                        num_class=dataset.num_classes,\n",
    "                        num_layers=2,\n",
    "                        dropout=0.5,\n",
    "                        hidden_size=128)\n",
    "#         gnn_model = GAT(input_size=graph.node_feat[\"feat\"].shape[1],\n",
    "#                         num_class=dataset.num_classes,\n",
    "#                         num_layers=3,\n",
    "#                         feat_drop=0.5,\n",
    "#                         attn_drop=0.5,\n",
    "#                         num_heads=8,\n",
    "#                         hidden_size=8)\n",
    "        optim = Adam(\n",
    "            learning_rate=0.01,\n",
    "            parameters=gnn_model.parameters(),\n",
    "            weight_decay=0.0005)\n",
    "\n",
    "        for epoch in tqdm.tqdm(range(1, 301)):\n",
    "            if epoch >= 3:\n",
    "                start = time.time()\n",
    "            train_loss, train_acc = train(gnn_model, train_index, train_label,\n",
    "                                          graph, criterion, optim)\n",
    "            if epoch >= 3:\n",
    "                end = time.time()\n",
    "                dur.append(end - start)\n",
    "            val_loss, val_acc = eval_test(gnn_model, val_index, val_label, graph,\n",
    "                                     criterion)\n",
    "            cal_val_acc.append(val_acc.numpy())\n",
    "            cal_val_loss.append(val_loss.numpy())\n",
    "            if epoch % 20 == 0:\n",
    "                print(\"Epoch\", epoch, \"Train loss\", np.array(train_loss)[0], \"Valid loss\", np.array(val_loss)[0])\n",
    "                print(\"Train Acc\", np.array(train_acc)[0], \"Valid Acc\", np.array(val_acc)[0])\n",
    "\n",
    "    log.info(\"Average Speed %s sec/ epoch\" % (np.mean(dur)))\n",
    "    # 预测\n",
    "    gnn_model.eval()\n",
    "    pred = gnn_model(graph, graph.node_feat[\"feat\"])\n",
    "    pred = paddle.gather(pred, test_index)\n",
    "    submission = pd.DataFrame(data={\n",
    "                            \"nid\": np.array(test_index).reshape(-1),\n",
    "                            \"label\": np.argmax(pred,1)\n",
    "                        })\n",
    "    \n",
    "    return gnn_model, pred, submission"
   ]
  },
  {
   "cell_type": "code",
   "execution_count": 28,
   "metadata": {
    "execution": {
     "iopub.execute_input": "2022-08-04T16:17:51.002683Z",
     "iopub.status.busy": "2022-08-04T16:17:51.001447Z",
     "iopub.status.idle": "2022-08-04T16:25:40.892174Z",
     "shell.execute_reply": "2022-08-04T16:25:40.891299Z",
     "shell.execute_reply.started": "2022-08-04T16:17:51.002650Z"
    },
    "scrolled": true,
    "tags": []
   },
   "outputs": [
    {
     "name": "stderr",
     "output_type": "stream",
     "text": [
      " 33%|███▎      | 20/60 [02:35<05:13,  7.83s/it]"
     ]
    },
    {
     "name": "stdout",
     "output_type": "stream",
     "text": [
      "Epoch 20 Train loss 2.0737271 Valid loss 1.956179\n",
      "Train Acc 0.4419271 Valid Acc 0.4672172\n"
     ]
    },
    {
     "name": "stderr",
     "output_type": "stream",
     "text": [
      " 67%|██████▋   | 40/60 [05:10<02:38,  7.95s/it]"
     ]
    },
    {
     "name": "stdout",
     "output_type": "stream",
     "text": [
      "Epoch 40 Train loss 1.5756513 Valid loss 1.4543743\n",
      "Train Acc 0.56999713 Valid Acc 0.5942194\n"
     ]
    },
    {
     "name": "stderr",
     "output_type": "stream",
     "text": [
      "100%|██████████| 60/60 [07:46<00:00,  7.77s/it]\n",
      "[INFO] 2022-08-05 00:25:38,164 [967635228.py:   61]:\tAverage Speed 5.036017306919756 sec/ epoch\n"
     ]
    },
    {
     "name": "stdout",
     "output_type": "stream",
     "text": [
      "Epoch 60 Train loss 1.3513439 Valid loss 1.2379695\n",
      "Train Acc 0.6195985 Valid Acc 0.64305544\n"
     ]
    }
   ],
   "source": [
    "model, preds, submission = main() # 保留60个epoch结果 当初未保留模型"
   ]
  },
  {
   "cell_type": "code",
   "execution_count": 29,
   "metadata": {
    "execution": {
     "iopub.execute_input": "2022-08-04T16:26:37.888422Z",
     "iopub.status.busy": "2022-08-04T16:26:37.887768Z",
     "iopub.status.idle": "2022-08-04T16:26:37.934056Z",
     "shell.execute_reply": "2022-08-04T16:26:37.933020Z",
     "shell.execute_reply.started": "2022-08-04T16:26:37.888391Z"
    },
    "scrolled": true,
    "tags": []
   },
   "outputs": [],
   "source": [
    "# 预测和提交\n",
    "submission.to_csv(\"submission.csv\", index=False)"
   ]
  }
 ],
 "metadata": {
  "kernelspec": {
   "display_name": "Python 3",
   "language": "python",
   "name": "py35-paddle1.2.0"
  },
  "language_info": {
   "codemirror_mode": {
    "name": "ipython",
    "version": 3
   },
   "file_extension": ".py",
   "mimetype": "text/x-python",
   "name": "python",
   "nbconvert_exporter": "python",
   "pygments_lexer": "ipython3",
   "version": "3.7.4"
  }
 },
 "nbformat": 4,
 "nbformat_minor": 4
}
